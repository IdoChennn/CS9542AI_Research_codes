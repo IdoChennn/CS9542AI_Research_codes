{
 "cells": [
  {
   "cell_type": "code",
   "execution_count": 138,
   "metadata": {
    "ExecuteTime": {
     "end_time": "2023-11-30T23:01:16.048574506Z",
     "start_time": "2023-11-30T23:01:15.083459117Z"
    }
   },
   "outputs": [
    {
     "data": {
      "text/plain": "   USMER  MEDICAL_UNIT  SEX  PATIENT_TYPE   DATE_DIED  INTUBED  PNEUMONIA  \\\n0      2             1    1             1  03/05/2020       97          1   \n1      2             1    2             1  03/06/2020       97          1   \n2      2             1    2             2  09/06/2020        1          2   \n3      2             1    1             1  12/06/2020       97          2   \n4      2             1    2             1  21/06/2020       97          2   \n5      2             1    1             2  9999-99-99        2          1   \n6      2             1    1             1  9999-99-99       97          2   \n7      2             1    1             1  9999-99-99       97          1   \n8      2             1    1             2  9999-99-99        2          2   \n9      2             1    1             2  9999-99-99        2          2   \n\n   AGE  PREGNANT  DIABETES  ...  ASTHMA  INMSUPR  HIPERTENSION  OTHER_DISEASE  \\\n0   65         2         2  ...       2        2             1              2   \n1   72        97         2  ...       2        2             1              2   \n2   55        97         1  ...       2        2             2              2   \n3   53         2         2  ...       2        2             2              2   \n4   68        97         1  ...       2        2             1              2   \n5   40         2         2  ...       2        2             2              2   \n6   64         2         2  ...       2        2             2              2   \n7   64         2         1  ...       2        1             1              2   \n8   37         2         1  ...       2        2             1              2   \n9   25         2         2  ...       2        2             2              2   \n\n   CARDIOVASCULAR  OBESITY  RENAL_CHRONIC  TOBACCO  CLASIFFICATION_FINAL  ICU  \n0               2        2              2        2                     3   97  \n1               2        1              1        2                     5   97  \n2               2        2              2        2                     3    2  \n3               2        2              2        2                     7   97  \n4               2        2              2        2                     3   97  \n5               2        2              2        2                     3    2  \n6               2        2              2        2                     3   97  \n7               2        2              1        2                     3   97  \n8               2        1              2        2                     3    2  \n9               2        2              2        2                     3    2  \n\n[10 rows x 21 columns]",
      "text/html": "<div>\n<style scoped>\n    .dataframe tbody tr th:only-of-type {\n        vertical-align: middle;\n    }\n\n    .dataframe tbody tr th {\n        vertical-align: top;\n    }\n\n    .dataframe thead th {\n        text-align: right;\n    }\n</style>\n<table border=\"1\" class=\"dataframe\">\n  <thead>\n    <tr style=\"text-align: right;\">\n      <th></th>\n      <th>USMER</th>\n      <th>MEDICAL_UNIT</th>\n      <th>SEX</th>\n      <th>PATIENT_TYPE</th>\n      <th>DATE_DIED</th>\n      <th>INTUBED</th>\n      <th>PNEUMONIA</th>\n      <th>AGE</th>\n      <th>PREGNANT</th>\n      <th>DIABETES</th>\n      <th>...</th>\n      <th>ASTHMA</th>\n      <th>INMSUPR</th>\n      <th>HIPERTENSION</th>\n      <th>OTHER_DISEASE</th>\n      <th>CARDIOVASCULAR</th>\n      <th>OBESITY</th>\n      <th>RENAL_CHRONIC</th>\n      <th>TOBACCO</th>\n      <th>CLASIFFICATION_FINAL</th>\n      <th>ICU</th>\n    </tr>\n  </thead>\n  <tbody>\n    <tr>\n      <th>0</th>\n      <td>2</td>\n      <td>1</td>\n      <td>1</td>\n      <td>1</td>\n      <td>03/05/2020</td>\n      <td>97</td>\n      <td>1</td>\n      <td>65</td>\n      <td>2</td>\n      <td>2</td>\n      <td>...</td>\n      <td>2</td>\n      <td>2</td>\n      <td>1</td>\n      <td>2</td>\n      <td>2</td>\n      <td>2</td>\n      <td>2</td>\n      <td>2</td>\n      <td>3</td>\n      <td>97</td>\n    </tr>\n    <tr>\n      <th>1</th>\n      <td>2</td>\n      <td>1</td>\n      <td>2</td>\n      <td>1</td>\n      <td>03/06/2020</td>\n      <td>97</td>\n      <td>1</td>\n      <td>72</td>\n      <td>97</td>\n      <td>2</td>\n      <td>...</td>\n      <td>2</td>\n      <td>2</td>\n      <td>1</td>\n      <td>2</td>\n      <td>2</td>\n      <td>1</td>\n      <td>1</td>\n      <td>2</td>\n      <td>5</td>\n      <td>97</td>\n    </tr>\n    <tr>\n      <th>2</th>\n      <td>2</td>\n      <td>1</td>\n      <td>2</td>\n      <td>2</td>\n      <td>09/06/2020</td>\n      <td>1</td>\n      <td>2</td>\n      <td>55</td>\n      <td>97</td>\n      <td>1</td>\n      <td>...</td>\n      <td>2</td>\n      <td>2</td>\n      <td>2</td>\n      <td>2</td>\n      <td>2</td>\n      <td>2</td>\n      <td>2</td>\n      <td>2</td>\n      <td>3</td>\n      <td>2</td>\n    </tr>\n    <tr>\n      <th>3</th>\n      <td>2</td>\n      <td>1</td>\n      <td>1</td>\n      <td>1</td>\n      <td>12/06/2020</td>\n      <td>97</td>\n      <td>2</td>\n      <td>53</td>\n      <td>2</td>\n      <td>2</td>\n      <td>...</td>\n      <td>2</td>\n      <td>2</td>\n      <td>2</td>\n      <td>2</td>\n      <td>2</td>\n      <td>2</td>\n      <td>2</td>\n      <td>2</td>\n      <td>7</td>\n      <td>97</td>\n    </tr>\n    <tr>\n      <th>4</th>\n      <td>2</td>\n      <td>1</td>\n      <td>2</td>\n      <td>1</td>\n      <td>21/06/2020</td>\n      <td>97</td>\n      <td>2</td>\n      <td>68</td>\n      <td>97</td>\n      <td>1</td>\n      <td>...</td>\n      <td>2</td>\n      <td>2</td>\n      <td>1</td>\n      <td>2</td>\n      <td>2</td>\n      <td>2</td>\n      <td>2</td>\n      <td>2</td>\n      <td>3</td>\n      <td>97</td>\n    </tr>\n    <tr>\n      <th>5</th>\n      <td>2</td>\n      <td>1</td>\n      <td>1</td>\n      <td>2</td>\n      <td>9999-99-99</td>\n      <td>2</td>\n      <td>1</td>\n      <td>40</td>\n      <td>2</td>\n      <td>2</td>\n      <td>...</td>\n      <td>2</td>\n      <td>2</td>\n      <td>2</td>\n      <td>2</td>\n      <td>2</td>\n      <td>2</td>\n      <td>2</td>\n      <td>2</td>\n      <td>3</td>\n      <td>2</td>\n    </tr>\n    <tr>\n      <th>6</th>\n      <td>2</td>\n      <td>1</td>\n      <td>1</td>\n      <td>1</td>\n      <td>9999-99-99</td>\n      <td>97</td>\n      <td>2</td>\n      <td>64</td>\n      <td>2</td>\n      <td>2</td>\n      <td>...</td>\n      <td>2</td>\n      <td>2</td>\n      <td>2</td>\n      <td>2</td>\n      <td>2</td>\n      <td>2</td>\n      <td>2</td>\n      <td>2</td>\n      <td>3</td>\n      <td>97</td>\n    </tr>\n    <tr>\n      <th>7</th>\n      <td>2</td>\n      <td>1</td>\n      <td>1</td>\n      <td>1</td>\n      <td>9999-99-99</td>\n      <td>97</td>\n      <td>1</td>\n      <td>64</td>\n      <td>2</td>\n      <td>1</td>\n      <td>...</td>\n      <td>2</td>\n      <td>1</td>\n      <td>1</td>\n      <td>2</td>\n      <td>2</td>\n      <td>2</td>\n      <td>1</td>\n      <td>2</td>\n      <td>3</td>\n      <td>97</td>\n    </tr>\n    <tr>\n      <th>8</th>\n      <td>2</td>\n      <td>1</td>\n      <td>1</td>\n      <td>2</td>\n      <td>9999-99-99</td>\n      <td>2</td>\n      <td>2</td>\n      <td>37</td>\n      <td>2</td>\n      <td>1</td>\n      <td>...</td>\n      <td>2</td>\n      <td>2</td>\n      <td>1</td>\n      <td>2</td>\n      <td>2</td>\n      <td>1</td>\n      <td>2</td>\n      <td>2</td>\n      <td>3</td>\n      <td>2</td>\n    </tr>\n    <tr>\n      <th>9</th>\n      <td>2</td>\n      <td>1</td>\n      <td>1</td>\n      <td>2</td>\n      <td>9999-99-99</td>\n      <td>2</td>\n      <td>2</td>\n      <td>25</td>\n      <td>2</td>\n      <td>2</td>\n      <td>...</td>\n      <td>2</td>\n      <td>2</td>\n      <td>2</td>\n      <td>2</td>\n      <td>2</td>\n      <td>2</td>\n      <td>2</td>\n      <td>2</td>\n      <td>3</td>\n      <td>2</td>\n    </tr>\n  </tbody>\n</table>\n<p>10 rows × 21 columns</p>\n</div>"
     },
     "execution_count": 138,
     "metadata": {},
     "output_type": "execute_result"
    }
   ],
   "source": [
    "import pandas as pd\n",
    "\n",
    "from sklearn.preprocessing import StandardScaler\n",
    "import numpy as np\n",
    "from sklearn.preprocessing import OneHotEncoder\n",
    "\n",
    "# Read the CSV file\n",
    "df = pd.read_csv('dataset/Covid Data.csv')\n",
    "\n",
    "# Print the first 10 rows of the DataFrame\n",
    "df.head(10)"
   ]
  },
  {
   "cell_type": "code",
   "execution_count": 11,
   "metadata": {
    "ExecuteTime": {
     "end_time": "2023-11-30T18:32:43.656913971Z",
     "start_time": "2023-11-30T18:32:43.655025180Z"
    }
   },
   "outputs": [
    {
     "name": "stdout",
     "output_type": "stream",
     "text": [
      "(1048575, 21)\n"
     ]
    }
   ],
   "source": [
    "# Print the last 10 rows of the DataFrame\n",
    "print(df.shape)"
   ]
  },
  {
   "cell_type": "code",
   "execution_count": 12,
   "metadata": {
    "ExecuteTime": {
     "end_time": "2023-11-30T18:32:45.623203012Z",
     "start_time": "2023-11-30T18:32:45.615839312Z"
    }
   },
   "outputs": [
    {
     "name": "stdout",
     "output_type": "stream",
     "text": [
      "Index(['USMER', 'MEDICAL_UNIT', 'SEX', 'PATIENT_TYPE', 'DATE_DIED', 'INTUBED',\n",
      "       'PNEUMONIA', 'AGE', 'PREGNANT', 'DIABETES', 'COPD', 'ASTHMA', 'INMSUPR',\n",
      "       'HIPERTENSION', 'OTHER_DISEASE', 'CARDIOVASCULAR', 'OBESITY',\n",
      "       'RENAL_CHRONIC', 'TOBACCO', 'CLASIFFICATION_FINAL', 'ICU'],\n",
      "      dtype='object')\n"
     ]
    }
   ],
   "source": [
    "# Print the data type of each column\n",
    "print(df.columns)"
   ]
  },
  {
   "cell_type": "code",
   "execution_count": 13,
   "metadata": {
    "ExecuteTime": {
     "end_time": "2023-11-30T18:32:47.641324938Z",
     "start_time": "2023-11-30T18:32:47.439670255Z"
    }
   },
   "outputs": [
    {
     "data": {
      "text/plain": "              USMER  MEDICAL_UNIT           SEX  PATIENT_TYPE       INTUBED  \\\ncount  1.048575e+06  1.048575e+06  1.048575e+06  1.048575e+06  1.048575e+06   \nmean   1.632194e+00  8.980565e+00  1.499259e+00  1.190765e+00  7.952288e+01   \nstd    4.822084e-01  3.723278e+00  4.999997e-01  3.929041e-01  3.686889e+01   \nmin    1.000000e+00  1.000000e+00  1.000000e+00  1.000000e+00  1.000000e+00   \n25%    1.000000e+00  4.000000e+00  1.000000e+00  1.000000e+00  9.700000e+01   \n50%    2.000000e+00  1.200000e+01  1.000000e+00  1.000000e+00  9.700000e+01   \n75%    2.000000e+00  1.200000e+01  2.000000e+00  1.000000e+00  9.700000e+01   \nmax    2.000000e+00  1.300000e+01  2.000000e+00  2.000000e+00  9.900000e+01   \n\n          PNEUMONIA           AGE      PREGNANT      DIABETES          COPD  \\\ncount  1.048575e+06  1.048575e+06  1.048575e+06  1.048575e+06  1.048575e+06   \nmean   3.346831e+00  4.179410e+01  4.976558e+01  2.186404e+00  2.260569e+00   \nstd    1.191288e+01  1.690739e+01  4.751073e+01  5.424242e+00  5.132258e+00   \nmin    1.000000e+00  0.000000e+00  1.000000e+00  1.000000e+00  1.000000e+00   \n25%    2.000000e+00  3.000000e+01  2.000000e+00  2.000000e+00  2.000000e+00   \n50%    2.000000e+00  4.000000e+01  9.700000e+01  2.000000e+00  2.000000e+00   \n75%    2.000000e+00  5.300000e+01  9.700000e+01  2.000000e+00  2.000000e+00   \nmax    9.900000e+01  1.210000e+02  9.800000e+01  9.800000e+01  9.800000e+01   \n\n             ASTHMA       INMSUPR  HIPERTENSION  OTHER_DISEASE  \\\ncount  1.048575e+06  1.048575e+06  1.048575e+06   1.048575e+06   \nmean   2.242626e+00  2.298132e+00  2.128989e+00   2.435143e+00   \nstd    5.114089e+00  5.462843e+00  5.236397e+00   6.646676e+00   \nmin    1.000000e+00  1.000000e+00  1.000000e+00   1.000000e+00   \n25%    2.000000e+00  2.000000e+00  2.000000e+00   2.000000e+00   \n50%    2.000000e+00  2.000000e+00  2.000000e+00   2.000000e+00   \n75%    2.000000e+00  2.000000e+00  2.000000e+00   2.000000e+00   \nmax    9.800000e+01  9.800000e+01  9.800000e+01   9.800000e+01   \n\n       CARDIOVASCULAR       OBESITY  RENAL_CHRONIC       TOBACCO  \\\ncount    1.048575e+06  1.048575e+06   1.048575e+06  1.048575e+06   \nmean     2.261810e+00  2.125176e+00   2.257180e+00  2.214333e+00   \nstd      5.194850e+00  5.175445e+00   5.135354e+00  5.323097e+00   \nmin      1.000000e+00  1.000000e+00   1.000000e+00  1.000000e+00   \n25%      2.000000e+00  2.000000e+00   2.000000e+00  2.000000e+00   \n50%      2.000000e+00  2.000000e+00   2.000000e+00  2.000000e+00   \n75%      2.000000e+00  2.000000e+00   2.000000e+00  2.000000e+00   \nmax      9.800000e+01  9.800000e+01   9.800000e+01  9.800000e+01   \n\n       CLASIFFICATION_FINAL           ICU  \ncount          1.048575e+06  1.048575e+06  \nmean           5.305653e+00  7.955397e+01  \nstd            1.881165e+00  3.682307e+01  \nmin            1.000000e+00  1.000000e+00  \n25%            3.000000e+00  9.700000e+01  \n50%            6.000000e+00  9.700000e+01  \n75%            7.000000e+00  9.700000e+01  \nmax            7.000000e+00  9.900000e+01  ",
      "text/html": "<div>\n<style scoped>\n    .dataframe tbody tr th:only-of-type {\n        vertical-align: middle;\n    }\n\n    .dataframe tbody tr th {\n        vertical-align: top;\n    }\n\n    .dataframe thead th {\n        text-align: right;\n    }\n</style>\n<table border=\"1\" class=\"dataframe\">\n  <thead>\n    <tr style=\"text-align: right;\">\n      <th></th>\n      <th>USMER</th>\n      <th>MEDICAL_UNIT</th>\n      <th>SEX</th>\n      <th>PATIENT_TYPE</th>\n      <th>INTUBED</th>\n      <th>PNEUMONIA</th>\n      <th>AGE</th>\n      <th>PREGNANT</th>\n      <th>DIABETES</th>\n      <th>COPD</th>\n      <th>ASTHMA</th>\n      <th>INMSUPR</th>\n      <th>HIPERTENSION</th>\n      <th>OTHER_DISEASE</th>\n      <th>CARDIOVASCULAR</th>\n      <th>OBESITY</th>\n      <th>RENAL_CHRONIC</th>\n      <th>TOBACCO</th>\n      <th>CLASIFFICATION_FINAL</th>\n      <th>ICU</th>\n    </tr>\n  </thead>\n  <tbody>\n    <tr>\n      <th>count</th>\n      <td>1.048575e+06</td>\n      <td>1.048575e+06</td>\n      <td>1.048575e+06</td>\n      <td>1.048575e+06</td>\n      <td>1.048575e+06</td>\n      <td>1.048575e+06</td>\n      <td>1.048575e+06</td>\n      <td>1.048575e+06</td>\n      <td>1.048575e+06</td>\n      <td>1.048575e+06</td>\n      <td>1.048575e+06</td>\n      <td>1.048575e+06</td>\n      <td>1.048575e+06</td>\n      <td>1.048575e+06</td>\n      <td>1.048575e+06</td>\n      <td>1.048575e+06</td>\n      <td>1.048575e+06</td>\n      <td>1.048575e+06</td>\n      <td>1.048575e+06</td>\n      <td>1.048575e+06</td>\n    </tr>\n    <tr>\n      <th>mean</th>\n      <td>1.632194e+00</td>\n      <td>8.980565e+00</td>\n      <td>1.499259e+00</td>\n      <td>1.190765e+00</td>\n      <td>7.952288e+01</td>\n      <td>3.346831e+00</td>\n      <td>4.179410e+01</td>\n      <td>4.976558e+01</td>\n      <td>2.186404e+00</td>\n      <td>2.260569e+00</td>\n      <td>2.242626e+00</td>\n      <td>2.298132e+00</td>\n      <td>2.128989e+00</td>\n      <td>2.435143e+00</td>\n      <td>2.261810e+00</td>\n      <td>2.125176e+00</td>\n      <td>2.257180e+00</td>\n      <td>2.214333e+00</td>\n      <td>5.305653e+00</td>\n      <td>7.955397e+01</td>\n    </tr>\n    <tr>\n      <th>std</th>\n      <td>4.822084e-01</td>\n      <td>3.723278e+00</td>\n      <td>4.999997e-01</td>\n      <td>3.929041e-01</td>\n      <td>3.686889e+01</td>\n      <td>1.191288e+01</td>\n      <td>1.690739e+01</td>\n      <td>4.751073e+01</td>\n      <td>5.424242e+00</td>\n      <td>5.132258e+00</td>\n      <td>5.114089e+00</td>\n      <td>5.462843e+00</td>\n      <td>5.236397e+00</td>\n      <td>6.646676e+00</td>\n      <td>5.194850e+00</td>\n      <td>5.175445e+00</td>\n      <td>5.135354e+00</td>\n      <td>5.323097e+00</td>\n      <td>1.881165e+00</td>\n      <td>3.682307e+01</td>\n    </tr>\n    <tr>\n      <th>min</th>\n      <td>1.000000e+00</td>\n      <td>1.000000e+00</td>\n      <td>1.000000e+00</td>\n      <td>1.000000e+00</td>\n      <td>1.000000e+00</td>\n      <td>1.000000e+00</td>\n      <td>0.000000e+00</td>\n      <td>1.000000e+00</td>\n      <td>1.000000e+00</td>\n      <td>1.000000e+00</td>\n      <td>1.000000e+00</td>\n      <td>1.000000e+00</td>\n      <td>1.000000e+00</td>\n      <td>1.000000e+00</td>\n      <td>1.000000e+00</td>\n      <td>1.000000e+00</td>\n      <td>1.000000e+00</td>\n      <td>1.000000e+00</td>\n      <td>1.000000e+00</td>\n      <td>1.000000e+00</td>\n    </tr>\n    <tr>\n      <th>25%</th>\n      <td>1.000000e+00</td>\n      <td>4.000000e+00</td>\n      <td>1.000000e+00</td>\n      <td>1.000000e+00</td>\n      <td>9.700000e+01</td>\n      <td>2.000000e+00</td>\n      <td>3.000000e+01</td>\n      <td>2.000000e+00</td>\n      <td>2.000000e+00</td>\n      <td>2.000000e+00</td>\n      <td>2.000000e+00</td>\n      <td>2.000000e+00</td>\n      <td>2.000000e+00</td>\n      <td>2.000000e+00</td>\n      <td>2.000000e+00</td>\n      <td>2.000000e+00</td>\n      <td>2.000000e+00</td>\n      <td>2.000000e+00</td>\n      <td>3.000000e+00</td>\n      <td>9.700000e+01</td>\n    </tr>\n    <tr>\n      <th>50%</th>\n      <td>2.000000e+00</td>\n      <td>1.200000e+01</td>\n      <td>1.000000e+00</td>\n      <td>1.000000e+00</td>\n      <td>9.700000e+01</td>\n      <td>2.000000e+00</td>\n      <td>4.000000e+01</td>\n      <td>9.700000e+01</td>\n      <td>2.000000e+00</td>\n      <td>2.000000e+00</td>\n      <td>2.000000e+00</td>\n      <td>2.000000e+00</td>\n      <td>2.000000e+00</td>\n      <td>2.000000e+00</td>\n      <td>2.000000e+00</td>\n      <td>2.000000e+00</td>\n      <td>2.000000e+00</td>\n      <td>2.000000e+00</td>\n      <td>6.000000e+00</td>\n      <td>9.700000e+01</td>\n    </tr>\n    <tr>\n      <th>75%</th>\n      <td>2.000000e+00</td>\n      <td>1.200000e+01</td>\n      <td>2.000000e+00</td>\n      <td>1.000000e+00</td>\n      <td>9.700000e+01</td>\n      <td>2.000000e+00</td>\n      <td>5.300000e+01</td>\n      <td>9.700000e+01</td>\n      <td>2.000000e+00</td>\n      <td>2.000000e+00</td>\n      <td>2.000000e+00</td>\n      <td>2.000000e+00</td>\n      <td>2.000000e+00</td>\n      <td>2.000000e+00</td>\n      <td>2.000000e+00</td>\n      <td>2.000000e+00</td>\n      <td>2.000000e+00</td>\n      <td>2.000000e+00</td>\n      <td>7.000000e+00</td>\n      <td>9.700000e+01</td>\n    </tr>\n    <tr>\n      <th>max</th>\n      <td>2.000000e+00</td>\n      <td>1.300000e+01</td>\n      <td>2.000000e+00</td>\n      <td>2.000000e+00</td>\n      <td>9.900000e+01</td>\n      <td>9.900000e+01</td>\n      <td>1.210000e+02</td>\n      <td>9.800000e+01</td>\n      <td>9.800000e+01</td>\n      <td>9.800000e+01</td>\n      <td>9.800000e+01</td>\n      <td>9.800000e+01</td>\n      <td>9.800000e+01</td>\n      <td>9.800000e+01</td>\n      <td>9.800000e+01</td>\n      <td>9.800000e+01</td>\n      <td>9.800000e+01</td>\n      <td>9.800000e+01</td>\n      <td>7.000000e+00</td>\n      <td>9.900000e+01</td>\n    </tr>\n  </tbody>\n</table>\n</div>"
     },
     "execution_count": 13,
     "metadata": {},
     "output_type": "execute_result"
    }
   ],
   "source": [
    "# Print the summary statistics of the DataFrame\n",
    "df.describe()"
   ]
  },
  {
   "cell_type": "markdown",
   "metadata": {},
   "source": [
    "# Handling Missing Values"
   ]
  },
  {
   "cell_type": "code",
   "execution_count": 139,
   "metadata": {
    "ExecuteTime": {
     "end_time": "2023-11-30T23:01:18.204222765Z",
     "start_time": "2023-11-30T23:01:17.940440327Z"
    }
   },
   "outputs": [
    {
     "name": "stdout",
     "output_type": "stream",
     "text": [
      "USMER                          0.0\n",
      "MEDICAL_UNIT                   0.0\n",
      "SEX                            0.0\n",
      "PATIENT_TYPE                   0.0\n",
      "DATE_DIED                        0\n",
      "INTUBED                 83033943.0\n",
      "PNEUMONIA                1584297.0\n",
      "AGE                        21609.0\n",
      "PREGNANT                50780567.0\n",
      "DIABETES                       0.0\n",
      "COPD                           0.0\n",
      "ASTHMA                         0.0\n",
      "INMSUPR                        0.0\n",
      "HIPERTENSION                   0.0\n",
      "OTHER_DISEASE                  0.0\n",
      "CARDIOVASCULAR                 0.0\n",
      "OBESITY                        0.0\n",
      "RENAL_CHRONIC                  0.0\n",
      "TOBACCO                        0.0\n",
      "CLASIFFICATION_FINAL           0.0\n",
      "ICU                     83050080.0\n",
      "dtype: object\n"
     ]
    }
   ],
   "source": [
    "# show the num of 97/99 in each column\n",
    "missing_data = df[df.isin([97, 99])].sum()\n",
    "print(missing_data)\n",
    "# Since the missing data for INTUBED and ICU is too much, we just drop these two features.\n",
    "df = df.drop(columns=['INTUBED', 'ICU'])"
   ]
  },
  {
   "cell_type": "markdown",
   "metadata": {},
   "source": [
    "# Data Preparation for Make classification based on label 'DIED' (Predicting the patient will be dead) "
   ]
  },
  {
   "cell_type": "code",
   "execution_count": 140,
   "outputs": [
    {
     "data": {
      "text/plain": "   USMER  SEX  PATIENT_TYPE  PNEUMONIA       AGE  PREGNANT  DIABETES  COPD  \\\n0      0    1             1        1.0  1.372531       0.0       0.0   0.0   \n1      0    0             1        1.0  1.786551       0.0       0.0   0.0   \n2      0    0             0        0.0  0.781073       0.0       1.0   0.0   \n3      0    1             1        0.0  0.662781       0.0       0.0   0.0   \n4      0    0             1        0.0  1.549968       0.0       1.0   0.0   \n\n   ASTHMA  INMSUPR  ...  MEDICAL_UNIT_11  MEDICAL_UNIT_12  MEDICAL_UNIT_13  \\\n0     0.0      0.0  ...              0.0              0.0              0.0   \n1     0.0      0.0  ...              0.0              0.0              0.0   \n2     0.0      0.0  ...              0.0              0.0              0.0   \n3     0.0      0.0  ...              0.0              0.0              0.0   \n4     0.0      0.0  ...              0.0              0.0              0.0   \n\n   CLASIFFICATION_FINAL_1  CLASIFFICATION_FINAL_2  CLASIFFICATION_FINAL_3  \\\n0                     0.0                     0.0                     1.0   \n1                     0.0                     0.0                     0.0   \n2                     0.0                     0.0                     1.0   \n3                     0.0                     0.0                     0.0   \n4                     0.0                     0.0                     1.0   \n\n   CLASIFFICATION_FINAL_4  CLASIFFICATION_FINAL_5  CLASIFFICATION_FINAL_6  \\\n0                     0.0                     0.0                     0.0   \n1                     0.0                     1.0                     0.0   \n2                     0.0                     0.0                     0.0   \n3                     0.0                     0.0                     0.0   \n4                     0.0                     0.0                     0.0   \n\n   CLASIFFICATION_FINAL_7  \n0                     0.0  \n1                     0.0  \n2                     0.0  \n3                     1.0  \n4                     0.0  \n\n[5 rows x 36 columns]",
      "text/html": "<div>\n<style scoped>\n    .dataframe tbody tr th:only-of-type {\n        vertical-align: middle;\n    }\n\n    .dataframe tbody tr th {\n        vertical-align: top;\n    }\n\n    .dataframe thead th {\n        text-align: right;\n    }\n</style>\n<table border=\"1\" class=\"dataframe\">\n  <thead>\n    <tr style=\"text-align: right;\">\n      <th></th>\n      <th>USMER</th>\n      <th>SEX</th>\n      <th>PATIENT_TYPE</th>\n      <th>PNEUMONIA</th>\n      <th>AGE</th>\n      <th>PREGNANT</th>\n      <th>DIABETES</th>\n      <th>COPD</th>\n      <th>ASTHMA</th>\n      <th>INMSUPR</th>\n      <th>...</th>\n      <th>MEDICAL_UNIT_11</th>\n      <th>MEDICAL_UNIT_12</th>\n      <th>MEDICAL_UNIT_13</th>\n      <th>CLASIFFICATION_FINAL_1</th>\n      <th>CLASIFFICATION_FINAL_2</th>\n      <th>CLASIFFICATION_FINAL_3</th>\n      <th>CLASIFFICATION_FINAL_4</th>\n      <th>CLASIFFICATION_FINAL_5</th>\n      <th>CLASIFFICATION_FINAL_6</th>\n      <th>CLASIFFICATION_FINAL_7</th>\n    </tr>\n  </thead>\n  <tbody>\n    <tr>\n      <th>0</th>\n      <td>0</td>\n      <td>1</td>\n      <td>1</td>\n      <td>1.0</td>\n      <td>1.372531</td>\n      <td>0.0</td>\n      <td>0.0</td>\n      <td>0.0</td>\n      <td>0.0</td>\n      <td>0.0</td>\n      <td>...</td>\n      <td>0.0</td>\n      <td>0.0</td>\n      <td>0.0</td>\n      <td>0.0</td>\n      <td>0.0</td>\n      <td>1.0</td>\n      <td>0.0</td>\n      <td>0.0</td>\n      <td>0.0</td>\n      <td>0.0</td>\n    </tr>\n    <tr>\n      <th>1</th>\n      <td>0</td>\n      <td>0</td>\n      <td>1</td>\n      <td>1.0</td>\n      <td>1.786551</td>\n      <td>0.0</td>\n      <td>0.0</td>\n      <td>0.0</td>\n      <td>0.0</td>\n      <td>0.0</td>\n      <td>...</td>\n      <td>0.0</td>\n      <td>0.0</td>\n      <td>0.0</td>\n      <td>0.0</td>\n      <td>0.0</td>\n      <td>0.0</td>\n      <td>0.0</td>\n      <td>1.0</td>\n      <td>0.0</td>\n      <td>0.0</td>\n    </tr>\n    <tr>\n      <th>2</th>\n      <td>0</td>\n      <td>0</td>\n      <td>0</td>\n      <td>0.0</td>\n      <td>0.781073</td>\n      <td>0.0</td>\n      <td>1.0</td>\n      <td>0.0</td>\n      <td>0.0</td>\n      <td>0.0</td>\n      <td>...</td>\n      <td>0.0</td>\n      <td>0.0</td>\n      <td>0.0</td>\n      <td>0.0</td>\n      <td>0.0</td>\n      <td>1.0</td>\n      <td>0.0</td>\n      <td>0.0</td>\n      <td>0.0</td>\n      <td>0.0</td>\n    </tr>\n    <tr>\n      <th>3</th>\n      <td>0</td>\n      <td>1</td>\n      <td>1</td>\n      <td>0.0</td>\n      <td>0.662781</td>\n      <td>0.0</td>\n      <td>0.0</td>\n      <td>0.0</td>\n      <td>0.0</td>\n      <td>0.0</td>\n      <td>...</td>\n      <td>0.0</td>\n      <td>0.0</td>\n      <td>0.0</td>\n      <td>0.0</td>\n      <td>0.0</td>\n      <td>0.0</td>\n      <td>0.0</td>\n      <td>0.0</td>\n      <td>0.0</td>\n      <td>1.0</td>\n    </tr>\n    <tr>\n      <th>4</th>\n      <td>0</td>\n      <td>0</td>\n      <td>1</td>\n      <td>0.0</td>\n      <td>1.549968</td>\n      <td>0.0</td>\n      <td>1.0</td>\n      <td>0.0</td>\n      <td>0.0</td>\n      <td>0.0</td>\n      <td>...</td>\n      <td>0.0</td>\n      <td>0.0</td>\n      <td>0.0</td>\n      <td>0.0</td>\n      <td>0.0</td>\n      <td>1.0</td>\n      <td>0.0</td>\n      <td>0.0</td>\n      <td>0.0</td>\n      <td>0.0</td>\n    </tr>\n  </tbody>\n</table>\n<p>5 rows × 36 columns</p>\n</div>"
     },
     "execution_count": 140,
     "metadata": {},
     "output_type": "execute_result"
    }
   ],
   "source": [
    "# Replacing missing value with nan\n",
    "df.loc[:, df.columns != 'AGE'] = df.loc[:, df.columns != 'AGE'].replace([97, 98, 99], np.nan)\n",
    "\n",
    "# For pregnant column, replace NaN with 2 if sex == 2 (male)\n",
    "\n",
    "#Male cannot pregnant for sure, so we will fill in the missing data for male with 2 (no)\n",
    "df.loc[(df['SEX'] == 2) & (df['PREGNANT'].isna()), 'PREGNANT'] = 2\n",
    "\n",
    "# For age column, replace NaN with median age\n",
    "df.loc[df['AGE'].isna(), 'AGE'] = df['AGE'].median()\n",
    "\n",
    "# For date_died column, change to 1 if date_died == 9999-99-99, 0 otherwise\n",
    "# df.loc[df['DATE_DIED'] == '9999-99-99', 'DATE_DIED'] = 0\n",
    "# df.loc[df['DATE_DIED'] != 0, 'DATE_DIED'] = 1\n",
    "\n",
    "df['DIED'] = np.where(df['DATE_DIED'] == '9999-99-99', 0, 1)\n",
    "df.drop(columns='DATE_DIED', inplace=True)\n",
    "\n",
    "# Impute missing values with mode\n",
    "df = df.fillna(df.mode().iloc[0])\n",
    "\n",
    "# For USMER SEX PATIENT_TYPE DATE_DIED INTUBED PNEUMONIA PREGNANT DIABETES COPD ASTHMA INMSUPR HIPERTENSION OTHER_DISEASE OBESITY RENAL_CHRONIC TOBACCO ICU columns, replace 2 with 0\n",
    "columns_to_replace = ['USMER', 'SEX', 'PATIENT_TYPE', 'DIED', 'PNEUMONIA', 'PREGNANT', 'DIABETES', 'COPD', 'ASTHMA', 'INMSUPR', 'HIPERTENSION', 'OTHER_DISEASE', 'OBESITY', 'RENAL_CHRONIC', 'TOBACCO', 'CARDIOVASCULAR']\n",
    "df[columns_to_replace] = df[columns_to_replace].replace(2, 0)\n",
    "# Normalization\n",
    "scaler = StandardScaler()\n",
    "\n",
    "numerical_cols = ['AGE']\n",
    "\n",
    "df[numerical_cols] = scaler.fit_transform(df[numerical_cols])\n",
    "df.head(10)\n",
    "\n",
    "encoder = OneHotEncoder(sparse_output=False)\n",
    "\n",
    "categorical_cols = [\"MEDICAL_UNIT\",\"CLASIFFICATION_FINAL\"]\n",
    "df_categorical = encoder.fit_transform(df[categorical_cols])\n",
    "categorical_names = encoder.get_feature_names_out(categorical_cols)\n",
    "df_categorical = pd.DataFrame(df_categorical, columns=categorical_names)\n",
    "\n",
    "\n",
    "\n",
    "df = df.drop(categorical_cols, axis=1)\n",
    "df = df.reset_index(drop=True)\n",
    "df = pd.concat([df, df_categorical], axis=1)\n",
    "\n",
    "df_output = df['DIED']\n",
    "df_output.to_csv('dataset/covid_y_died.csv', index=False)\n",
    "\n",
    "df = df.drop(columns=[\"DIED\"])\n",
    "df.to_csv('dataset/covid_x_died.csv', index=False)\n",
    "df.head()"
   ],
   "metadata": {
    "collapsed": false,
    "ExecuteTime": {
     "end_time": "2023-11-30T23:01:26.895645317Z",
     "start_time": "2023-11-30T23:01:20.040438065Z"
    }
   }
  },
  {
   "cell_type": "markdown",
   "source": [
    "# Data Preparation for Make classification based on label classification_final (Predicting the severity of the COVID-19 patient) "
   ],
   "metadata": {
    "collapsed": false
   }
  },
  {
   "cell_type": "code",
   "execution_count": 131,
   "outputs": [
    {
     "data": {
      "text/plain": "   USMER  SEX  PATIENT_TYPE  DATE_DIED  PNEUMONIA       AGE  PREGNANT  \\\n0      0    1             1          1        1.0  1.372531       0.0   \n1      0    0             1          1        1.0  1.786551       0.0   \n2      0    0             0          1        0.0  0.781073       0.0   \n3      0    1             1          1        0.0  0.662781       0.0   \n4      0    0             1          1        0.0  1.549968       0.0   \n5      0    1             0          0        1.0 -0.106114       0.0   \n6      0    1             1          0        0.0  1.313385       0.0   \n7      0    1             1          0        1.0  1.313385       0.0   \n8      0    1             0          0        0.0 -0.283551       0.0   \n9      0    1             0          0        0.0 -0.993300       0.0   \n\n   DIABETES  COPD  ASTHMA  ...  MEDICAL_UNIT_4  MEDICAL_UNIT_5  \\\n0       0.0   0.0     0.0  ...             0.0             0.0   \n1       0.0   0.0     0.0  ...             0.0             0.0   \n2       1.0   0.0     0.0  ...             0.0             0.0   \n3       0.0   0.0     0.0  ...             0.0             0.0   \n4       1.0   0.0     0.0  ...             0.0             0.0   \n5       0.0   0.0     0.0  ...             0.0             0.0   \n6       0.0   0.0     0.0  ...             0.0             0.0   \n7       1.0   0.0     0.0  ...             0.0             0.0   \n8       1.0   0.0     0.0  ...             0.0             0.0   \n9       0.0   0.0     0.0  ...             0.0             0.0   \n\n   MEDICAL_UNIT_6  MEDICAL_UNIT_7  MEDICAL_UNIT_8  MEDICAL_UNIT_9  \\\n0             0.0             0.0             0.0             0.0   \n1             0.0             0.0             0.0             0.0   \n2             0.0             0.0             0.0             0.0   \n3             0.0             0.0             0.0             0.0   \n4             0.0             0.0             0.0             0.0   \n5             0.0             0.0             0.0             0.0   \n6             0.0             0.0             0.0             0.0   \n7             0.0             0.0             0.0             0.0   \n8             0.0             0.0             0.0             0.0   \n9             0.0             0.0             0.0             0.0   \n\n   MEDICAL_UNIT_10  MEDICAL_UNIT_11  MEDICAL_UNIT_12  MEDICAL_UNIT_13  \n0              0.0              0.0              0.0              0.0  \n1              0.0              0.0              0.0              0.0  \n2              0.0              0.0              0.0              0.0  \n3              0.0              0.0              0.0              0.0  \n4              0.0              0.0              0.0              0.0  \n5              0.0              0.0              0.0              0.0  \n6              0.0              0.0              0.0              0.0  \n7              0.0              0.0              0.0              0.0  \n8              0.0              0.0              0.0              0.0  \n9              0.0              0.0              0.0              0.0  \n\n[10 rows x 30 columns]",
      "text/html": "<div>\n<style scoped>\n    .dataframe tbody tr th:only-of-type {\n        vertical-align: middle;\n    }\n\n    .dataframe tbody tr th {\n        vertical-align: top;\n    }\n\n    .dataframe thead th {\n        text-align: right;\n    }\n</style>\n<table border=\"1\" class=\"dataframe\">\n  <thead>\n    <tr style=\"text-align: right;\">\n      <th></th>\n      <th>USMER</th>\n      <th>SEX</th>\n      <th>PATIENT_TYPE</th>\n      <th>DATE_DIED</th>\n      <th>PNEUMONIA</th>\n      <th>AGE</th>\n      <th>PREGNANT</th>\n      <th>DIABETES</th>\n      <th>COPD</th>\n      <th>ASTHMA</th>\n      <th>...</th>\n      <th>MEDICAL_UNIT_4</th>\n      <th>MEDICAL_UNIT_5</th>\n      <th>MEDICAL_UNIT_6</th>\n      <th>MEDICAL_UNIT_7</th>\n      <th>MEDICAL_UNIT_8</th>\n      <th>MEDICAL_UNIT_9</th>\n      <th>MEDICAL_UNIT_10</th>\n      <th>MEDICAL_UNIT_11</th>\n      <th>MEDICAL_UNIT_12</th>\n      <th>MEDICAL_UNIT_13</th>\n    </tr>\n  </thead>\n  <tbody>\n    <tr>\n      <th>0</th>\n      <td>0</td>\n      <td>1</td>\n      <td>1</td>\n      <td>1</td>\n      <td>1.0</td>\n      <td>1.372531</td>\n      <td>0.0</td>\n      <td>0.0</td>\n      <td>0.0</td>\n      <td>0.0</td>\n      <td>...</td>\n      <td>0.0</td>\n      <td>0.0</td>\n      <td>0.0</td>\n      <td>0.0</td>\n      <td>0.0</td>\n      <td>0.0</td>\n      <td>0.0</td>\n      <td>0.0</td>\n      <td>0.0</td>\n      <td>0.0</td>\n    </tr>\n    <tr>\n      <th>1</th>\n      <td>0</td>\n      <td>0</td>\n      <td>1</td>\n      <td>1</td>\n      <td>1.0</td>\n      <td>1.786551</td>\n      <td>0.0</td>\n      <td>0.0</td>\n      <td>0.0</td>\n      <td>0.0</td>\n      <td>...</td>\n      <td>0.0</td>\n      <td>0.0</td>\n      <td>0.0</td>\n      <td>0.0</td>\n      <td>0.0</td>\n      <td>0.0</td>\n      <td>0.0</td>\n      <td>0.0</td>\n      <td>0.0</td>\n      <td>0.0</td>\n    </tr>\n    <tr>\n      <th>2</th>\n      <td>0</td>\n      <td>0</td>\n      <td>0</td>\n      <td>1</td>\n      <td>0.0</td>\n      <td>0.781073</td>\n      <td>0.0</td>\n      <td>1.0</td>\n      <td>0.0</td>\n      <td>0.0</td>\n      <td>...</td>\n      <td>0.0</td>\n      <td>0.0</td>\n      <td>0.0</td>\n      <td>0.0</td>\n      <td>0.0</td>\n      <td>0.0</td>\n      <td>0.0</td>\n      <td>0.0</td>\n      <td>0.0</td>\n      <td>0.0</td>\n    </tr>\n    <tr>\n      <th>3</th>\n      <td>0</td>\n      <td>1</td>\n      <td>1</td>\n      <td>1</td>\n      <td>0.0</td>\n      <td>0.662781</td>\n      <td>0.0</td>\n      <td>0.0</td>\n      <td>0.0</td>\n      <td>0.0</td>\n      <td>...</td>\n      <td>0.0</td>\n      <td>0.0</td>\n      <td>0.0</td>\n      <td>0.0</td>\n      <td>0.0</td>\n      <td>0.0</td>\n      <td>0.0</td>\n      <td>0.0</td>\n      <td>0.0</td>\n      <td>0.0</td>\n    </tr>\n    <tr>\n      <th>4</th>\n      <td>0</td>\n      <td>0</td>\n      <td>1</td>\n      <td>1</td>\n      <td>0.0</td>\n      <td>1.549968</td>\n      <td>0.0</td>\n      <td>1.0</td>\n      <td>0.0</td>\n      <td>0.0</td>\n      <td>...</td>\n      <td>0.0</td>\n      <td>0.0</td>\n      <td>0.0</td>\n      <td>0.0</td>\n      <td>0.0</td>\n      <td>0.0</td>\n      <td>0.0</td>\n      <td>0.0</td>\n      <td>0.0</td>\n      <td>0.0</td>\n    </tr>\n    <tr>\n      <th>5</th>\n      <td>0</td>\n      <td>1</td>\n      <td>0</td>\n      <td>0</td>\n      <td>1.0</td>\n      <td>-0.106114</td>\n      <td>0.0</td>\n      <td>0.0</td>\n      <td>0.0</td>\n      <td>0.0</td>\n      <td>...</td>\n      <td>0.0</td>\n      <td>0.0</td>\n      <td>0.0</td>\n      <td>0.0</td>\n      <td>0.0</td>\n      <td>0.0</td>\n      <td>0.0</td>\n      <td>0.0</td>\n      <td>0.0</td>\n      <td>0.0</td>\n    </tr>\n    <tr>\n      <th>6</th>\n      <td>0</td>\n      <td>1</td>\n      <td>1</td>\n      <td>0</td>\n      <td>0.0</td>\n      <td>1.313385</td>\n      <td>0.0</td>\n      <td>0.0</td>\n      <td>0.0</td>\n      <td>0.0</td>\n      <td>...</td>\n      <td>0.0</td>\n      <td>0.0</td>\n      <td>0.0</td>\n      <td>0.0</td>\n      <td>0.0</td>\n      <td>0.0</td>\n      <td>0.0</td>\n      <td>0.0</td>\n      <td>0.0</td>\n      <td>0.0</td>\n    </tr>\n    <tr>\n      <th>7</th>\n      <td>0</td>\n      <td>1</td>\n      <td>1</td>\n      <td>0</td>\n      <td>1.0</td>\n      <td>1.313385</td>\n      <td>0.0</td>\n      <td>1.0</td>\n      <td>0.0</td>\n      <td>0.0</td>\n      <td>...</td>\n      <td>0.0</td>\n      <td>0.0</td>\n      <td>0.0</td>\n      <td>0.0</td>\n      <td>0.0</td>\n      <td>0.0</td>\n      <td>0.0</td>\n      <td>0.0</td>\n      <td>0.0</td>\n      <td>0.0</td>\n    </tr>\n    <tr>\n      <th>8</th>\n      <td>0</td>\n      <td>1</td>\n      <td>0</td>\n      <td>0</td>\n      <td>0.0</td>\n      <td>-0.283551</td>\n      <td>0.0</td>\n      <td>1.0</td>\n      <td>0.0</td>\n      <td>0.0</td>\n      <td>...</td>\n      <td>0.0</td>\n      <td>0.0</td>\n      <td>0.0</td>\n      <td>0.0</td>\n      <td>0.0</td>\n      <td>0.0</td>\n      <td>0.0</td>\n      <td>0.0</td>\n      <td>0.0</td>\n      <td>0.0</td>\n    </tr>\n    <tr>\n      <th>9</th>\n      <td>0</td>\n      <td>1</td>\n      <td>0</td>\n      <td>0</td>\n      <td>0.0</td>\n      <td>-0.993300</td>\n      <td>0.0</td>\n      <td>0.0</td>\n      <td>0.0</td>\n      <td>0.0</td>\n      <td>...</td>\n      <td>0.0</td>\n      <td>0.0</td>\n      <td>0.0</td>\n      <td>0.0</td>\n      <td>0.0</td>\n      <td>0.0</td>\n      <td>0.0</td>\n      <td>0.0</td>\n      <td>0.0</td>\n      <td>0.0</td>\n    </tr>\n  </tbody>\n</table>\n<p>10 rows × 30 columns</p>\n</div>"
     },
     "execution_count": 131,
     "metadata": {},
     "output_type": "execute_result"
    }
   ],
   "source": [
    "\n",
    "df.loc[:, df.columns != 'AGE'] = df.loc[:, df.columns != 'AGE'].replace([97, 98, 99], np.nan)\n",
    "\n",
    "# For pregnant column, replace NaN with 2 if sex == 2 (male)\n",
    "df.loc[(df['SEX'] == 2) & (df['PREGNANT'].isna()), 'PREGNANT'] = 2\n",
    "\n",
    "# For age column, replace NaN with median age\n",
    "df.loc[df['AGE'].isna(), 'AGE'] = df['AGE'].median()\n",
    "\n",
    "# For date_died column, change to 1 if date_died == 9999-99-99, 0 otherwise\n",
    "df.loc[df['DATE_DIED'] == '9999-99-99', 'DATE_DIED'] = 0\n",
    "df.loc[df['DATE_DIED'] != 0, 'DATE_DIED'] = 1\n",
    "\n",
    "\n",
    "# Impute missing values with mode\n",
    "df = df.fillna(df.mode().iloc[0])\n",
    "\n",
    "# For USMER SEX PATIENT_TYPE DATE_DIED INTUBED PNEUMONIA PREGNANT DIABETES COPD ASTHMA INMSUPR HIPERTENSION OTHER_DISEASE OBESITY RENAL_CHRONIC TOBACCO ICU columns, replace 2 with 0\n",
    "columns_to_replace = ['USMER', 'SEX', 'PATIENT_TYPE', 'DATE_DIED', 'PNEUMONIA', 'PREGNANT', 'DIABETES', 'COPD', 'ASTHMA', 'INMSUPR', 'HIPERTENSION', 'OTHER_DISEASE', 'OBESITY', 'RENAL_CHRONIC', 'TOBACCO', 'CARDIOVASCULAR']\n",
    "df[columns_to_replace] = df[columns_to_replace].replace(2, 0)\n",
    "\n",
    "# Normalization\n",
    "scaler = StandardScaler()\n",
    "\n",
    "numerical_cols = ['AGE']\n",
    "\n",
    "df[numerical_cols] = scaler.fit_transform(df[numerical_cols])\n",
    "df.head(10)\n",
    "\n",
    "\n",
    "encoder = OneHotEncoder(sparse_output=False)\n",
    "\n",
    "categorical_cols = [\"MEDICAL_UNIT\"]\n",
    "df_categorical = encoder.fit_transform(df[categorical_cols])\n",
    "categorical_names = encoder.get_feature_names_out(categorical_cols)\n",
    "df_categorical = pd.DataFrame(df_categorical, columns=categorical_names)\n",
    "\n",
    "\n",
    "\n",
    "df = df.drop(categorical_cols, axis=1)\n",
    "df = df.reset_index(drop=True)\n",
    "df = pd.concat([df, df_categorical], axis=1)\n",
    "\n",
    "\n",
    "df_output = df['CLASIFFICATION_FINAL']\n",
    "# i want to change all the value of CLASIFFICATION_FINAL that are higher than 3 to be 4\n",
    "df_output = df_output.replace([4, 5, 6, 7], 4)\n",
    "df_output.to_csv('dataset/covid_y_classification.csv', index=False)\n",
    "df = df.drop(columns=[\"CLASIFFICATION_FINAL\"])\n",
    "df.to_csv('dataset/covid_x_csv_classification.csv', index=False)\n",
    "\n",
    "df.head(10)\n"
   ],
   "metadata": {
    "collapsed": false,
    "ExecuteTime": {
     "end_time": "2023-11-30T22:13:12.601691944Z",
     "start_time": "2023-11-30T22:13:06.632906532Z"
    }
   }
  }
 ],
 "metadata": {
  "kernelspec": {
   "display_name": "Python 3",
   "language": "python",
   "name": "python3"
  },
  "language_info": {
   "codemirror_mode": {
    "name": "ipython",
    "version": 3
   },
   "file_extension": ".py",
   "mimetype": "text/x-python",
   "name": "python",
   "nbconvert_exporter": "python",
   "pygments_lexer": "ipython3",
   "version": "3.11.4"
  }
 },
 "nbformat": 4,
 "nbformat_minor": 2
}
