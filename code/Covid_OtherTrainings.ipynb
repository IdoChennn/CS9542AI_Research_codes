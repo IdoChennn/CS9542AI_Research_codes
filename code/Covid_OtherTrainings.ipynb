{
 "cells": [
  {
   "cell_type": "code",
   "execution_count": 7,
   "id": "initial_id",
   "metadata": {
    "collapsed": true,
    "ExecuteTime": {
     "end_time": "2023-11-30T23:00:37.800484148Z",
     "start_time": "2023-11-30T23:00:37.755378779Z"
    }
   },
   "outputs": [],
   "source": [
    "import pandas as pd \n",
    "from sklearn.preprocessing import LabelEncoder\n",
    "from imblearn.under_sampling import RandomUnderSampler\n",
    "from sklearn.model_selection import train_test_split\n",
    "from sklearn.ensemble import RandomForestClassifier\n",
    "import numpy as np\n"
   ]
  },
  {
   "cell_type": "markdown",
   "source": [
    "# Read the dataset where labels is 'DIED'"
   ],
   "metadata": {
    "collapsed": false
   },
   "id": "654de45e24fe035a"
  },
  {
   "cell_type": "code",
   "execution_count": 0,
   "outputs": [],
   "source": [
    "def read_data_for_tree():\n",
    "    df = pd.read_csv('dataset/covid_x_died.csv')\n",
    "    label_df = pd.read_csv('dataset/covid_y_died.csv')\n",
    "    encoder = LabelEncoder()\n",
    "    label_df = encoder.fit_transform(label_df.values.ravel())\n",
    "  \n",
    "    return df, label_df\n",
    "\n",
    "X, Y = read_data_for_tree()\n"
   ],
   "metadata": {
    "collapsed": false
   },
   "id": "561553bcc8efcd82"
  },
  {
   "cell_type": "markdown",
   "source": [
    "# Run Decision Tree Classifier"
   ],
   "metadata": {
    "collapsed": false
   },
   "id": "2c1ca69968f3ed21"
  },
  {
   "cell_type": "code",
   "execution_count": 5,
   "outputs": [
    {
     "name": "stdout",
     "output_type": "stream",
     "text": [
      "Train_x : (123107, 36)\n",
      "Test_x : (30777, 36)\n",
      "Train_y : (123107,)\n",
      "Test_y : (30777,)\n"
     ]
    },
    {
     "data": {
      "text/plain": "0.961423802058372"
     },
     "execution_count": 5,
     "metadata": {},
     "output_type": "execute_result"
    }
   ],
   "source": [
    "rand_under = RandomUnderSampler(random_state=42)\n",
    "x_resampled, y_resampled = rand_under.fit_resample(X,Y)\n",
    "\n",
    "X_train, X_test, y_train, y_test = train_test_split(x_resampled, y_resampled, test_size=0.2, random_state=42)\n",
    "\n",
    "print(\"Train_x :\", X_train.shape)\n",
    "print(\"Test_x :\", X_test.shape)\n",
    "print(\"Train_y :\", y_train.shape)\n",
    "print(\"Test_y :\", y_test.shape)\n",
    "\n",
    "from sklearn.tree import DecisionTreeClassifier\n",
    "from sklearn.metrics import accuracy_score\n",
    "\n",
    "clf = DecisionTreeClassifier(random_state=42)\n",
    "clf.fit(X_train, y_train)\n",
    "\n",
    "y_pred = clf.predict(X_train)\n",
    "\n",
    "# calculate the accuracy of the model on training data\n",
    "accuracy = accuracy_score(y_train, y_pred)\n",
    "accuracy"
   ],
   "metadata": {
    "collapsed": false,
    "ExecuteTime": {
     "start_time": "2023-11-30T22:42:02.347362404Z"
    }
   },
   "id": "606191dfdda24850"
  },
  {
   "cell_type": "markdown",
   "source": [
    "# Run Random Forest Classifier"
   ],
   "metadata": {
    "collapsed": false
   },
   "id": "cd1a8bc70b160f8a"
  },
  {
   "cell_type": "code",
   "execution_count": 6,
   "outputs": [
    {
     "data": {
      "text/plain": "0.9055463495467394"
     },
     "execution_count": 6,
     "metadata": {},
     "output_type": "execute_result"
    }
   ],
   "source": [
    "def train_local_model(X_train, y_train):\n",
    "    clf = RandomForestClassifier(max_depth=2, random_state=42)\n",
    "    clf.fit(X_train, y_train)\n",
    "    return clf\n",
    "\n",
    "def aggregate_models(clients_models, X_test):\n",
    "    # Collect predictions from each model\n",
    "    predictions = [model.predict(X_test) for model in clients_models]\n",
    "\n",
    "    # Aggregate predictions - here, we'll use a simple majority vote\n",
    "    aggregated_prediction = np.array(predictions).mean(axis=0)\n",
    "    aggregated_prediction = aggregated_prediction.round()  # Round to get the final class predictions\n",
    "\n",
    "    return aggregated_prediction\n",
    "\n",
    "# Example: Suppose you have 3 clients\n",
    "clients_data = [(X_train, y_train), (X_train, y_train), (X_train, y_train)]\n",
    "\n",
    "# Train local models\n",
    "clients_models = [train_local_model(X, y) for X, y in clients_data]\n",
    "\n",
    "# Aggregate models\n",
    "final_prediction = aggregate_models(clients_models, X_test)\n",
    "\n",
    "# Evaluate the aggregated model\n",
    "accuracy = accuracy_score(y_test, final_prediction)\n",
    "\n",
    "accuracy"
   ],
   "metadata": {
    "collapsed": false,
    "ExecuteTime": {
     "end_time": "2023-11-30T22:42:09.276428039Z",
     "start_time": "2023-11-30T22:42:06.260278254Z"
    }
   },
   "id": "354a444574a00709"
  }
 ],
 "metadata": {
  "kernelspec": {
   "display_name": "Python 3",
   "language": "python",
   "name": "python3"
  },
  "language_info": {
   "codemirror_mode": {
    "name": "ipython",
    "version": 2
   },
   "file_extension": ".py",
   "mimetype": "text/x-python",
   "name": "python",
   "nbconvert_exporter": "python",
   "pygments_lexer": "ipython2",
   "version": "2.7.6"
  }
 },
 "nbformat": 4,
 "nbformat_minor": 5
}
